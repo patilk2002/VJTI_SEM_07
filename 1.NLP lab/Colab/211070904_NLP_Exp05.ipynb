{
  "nbformat": 4,
  "nbformat_minor": 0,
  "metadata": {
    "colab": {
      "provenance": []
    },
    "kernelspec": {
      "name": "python3",
      "display_name": "Python 3"
    },
    "language_info": {
      "name": "python"
    }
  },
  "cells": [
    {
      "cell_type": "markdown",
      "source": [
        "\n",
        "### **NLP Lab Assignment - 05**\n",
        "\n",
        "---\n",
        "\n",
        "\n",
        "\n",
        "**Aim :** Text Processing at the Lowest Level, Text Processing with Unicode, Regular Expressions for Detecting Word Patterns, Useful Applications of Regular Expressions, Normalizing Text, Regular Expressions.\n",
        "\n",
        "**Name :** Kiran Patil\n",
        "\n",
        "**ID :** 211070904\n"
      ],
      "metadata": {
        "id": "C0lJUtDdGAtr"
      }
    },
    {
      "cell_type": "code",
      "execution_count": null,
      "metadata": {
        "colab": {
          "base_uri": "https://localhost:8080/"
        },
        "id": "JcUDYQ2mlPMD",
        "outputId": "c0e3967e-9c19-45fe-9911-d4cc90d5c572"
      },
      "outputs": [
        {
          "output_type": "stream",
          "name": "stdout",
          "text": [
            "Requirement already satisfied: regex in /usr/local/lib/python3.10/dist-packages (2023.6.3)\n"
          ]
        }
      ],
      "source": [
        "!pip install regex"
      ]
    },
    {
      "cell_type": "code",
      "source": [
        "import re\n",
        "import unicodedata"
      ],
      "metadata": {
        "id": "AENUG0LYlbRS"
      },
      "execution_count": null,
      "outputs": []
    },
    {
      "cell_type": "code",
      "source": [
        "text = \"Café\"  # Example text with an accented character\n",
        "\n",
        "normalized_text = unicodedata.normalize('NFKD', text)  # Normalize text\n",
        "text_without_accents = ''.join([c for c in normalized_text if not unicodedata.combining(c)])\n",
        "print(\"Normalized Text without Accents:\", text_without_accents)\n"
      ],
      "metadata": {
        "colab": {
          "base_uri": "https://localhost:8080/"
        },
        "id": "ogvL_Vx6leDz",
        "outputId": "e396d6e2-094d-4659-ae8d-f2d1a21b9f1d"
      },
      "execution_count": null,
      "outputs": [
        {
          "output_type": "stream",
          "name": "stdout",
          "text": [
            "Normalized Text without Accents: Cafe\n"
          ]
        }
      ]
    },
    {
      "cell_type": "markdown",
      "source": [
        "**Applications**"
      ],
      "metadata": {
        "id": "NEmH3oyimU0X"
      }
    },
    {
      "cell_type": "code",
      "source": [
        "# Email Address Extraction\n",
        "text = \"Contact us at support@example.com or info@domain.com for assistance.\"\n",
        "\n",
        "email_pattern = r'\\b[A-Za-z0-9._%+-]+@[A-Za-z0-9.-]+\\.[A-Z|a-z]{2,}\\b'\n",
        "emails_found = re.findall(email_pattern, text)\n",
        "print(\"Emails found:\", emails_found)"
      ],
      "metadata": {
        "colab": {
          "base_uri": "https://localhost:8080/"
        },
        "id": "4R8BxdK0mUEu",
        "outputId": "cab5d190-a236-4b39-eb3c-c7e7edc96cec"
      },
      "execution_count": null,
      "outputs": [
        {
          "output_type": "stream",
          "name": "stdout",
          "text": [
            "Emails found: ['support@example.com', 'info@domain.com']\n"
          ]
        }
      ]
    },
    {
      "cell_type": "code",
      "source": [
        "# URL Extraction\n",
        "text = \"Visit our website at https://www.example.com for more information.\"\n",
        "\n",
        "url_pattern = r'https?://(?:[-\\w.]|(?:%[\\da-fA-F]{2}))+'\n",
        "urls_found = re.findall(url_pattern, text)\n",
        "print(\"URLs found:\", urls_found)\n"
      ],
      "metadata": {
        "colab": {
          "base_uri": "https://localhost:8080/"
        },
        "id": "FNwQiGOBmT8u",
        "outputId": "6083d68a-5ecd-4d45-e3b6-14f40e5986a6"
      },
      "execution_count": null,
      "outputs": [
        {
          "output_type": "stream",
          "name": "stdout",
          "text": [
            "URLs found: ['https://www.example.com']\n"
          ]
        }
      ]
    },
    {
      "cell_type": "code",
      "source": [
        "# Finding Dates in Text\n",
        "text = \"The event is scheduled for 21-11-2023 or 12/31/22.\"\n",
        "\n",
        "date_pattern = r'\\b\\d{1,2}[/-]\\d{1,2}[/-]\\d{2,4}\\b'\n",
        "dates_found = re.findall(date_pattern, text)\n",
        "print(\"Dates found:\", dates_found)"
      ],
      "metadata": {
        "colab": {
          "base_uri": "https://localhost:8080/"
        },
        "id": "SdW0aeSxmT3G",
        "outputId": "bf979878-2edb-4f6b-d152-85586be88769"
      },
      "execution_count": null,
      "outputs": [
        {
          "output_type": "stream",
          "name": "stdout",
          "text": [
            "Dates found: ['21-11-2023', '12/31/22']\n"
          ]
        }
      ]
    },
    {
      "cell_type": "code",
      "source": [
        "# Word Frequency Count\n",
        "from collections import Counter\n",
        "\n",
        "text = \"This is a sample text. This text contains sample words.\"\n",
        "\n",
        "words = re.findall(r'\\b\\w+\\b', text.lower())\n",
        "word_frequency = Counter(words)\n",
        "print(\"Word Frequency:\", word_frequency)"
      ],
      "metadata": {
        "colab": {
          "base_uri": "https://localhost:8080/"
        },
        "id": "NeIxCF7EmTve",
        "outputId": "12a03e7f-a4b4-4585-b4ab-6d88f9c5033b"
      },
      "execution_count": null,
      "outputs": [
        {
          "output_type": "stream",
          "name": "stdout",
          "text": [
            "Word Frequency: Counter({'this': 2, 'sample': 2, 'text': 2, 'is': 1, 'a': 1, 'contains': 1, 'words': 1})\n"
          ]
        }
      ]
    },
    {
      "cell_type": "code",
      "source": [
        "# Text Cleaning (Removing Punctuation)\n",
        "text = \"This text! Contains @ various punctuations.\"\n",
        "\n",
        "clean_text = re.sub(r'[^\\w\\s]', '', text)\n",
        "print(\"Cleaned Text:\", clean_text)"
      ],
      "metadata": {
        "colab": {
          "base_uri": "https://localhost:8080/"
        },
        "id": "wS4vzdipmTqe",
        "outputId": "f1f74176-5b42-43c9-9f40-d18afc9ddaf3"
      },
      "execution_count": null,
      "outputs": [
        {
          "output_type": "stream",
          "name": "stdout",
          "text": [
            "Cleaned Text: This text Contains  various punctuations\n"
          ]
        }
      ]
    }
  ]
}