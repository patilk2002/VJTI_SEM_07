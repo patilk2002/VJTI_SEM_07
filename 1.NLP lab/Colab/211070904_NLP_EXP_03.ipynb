{
  "nbformat": 4,
  "nbformat_minor": 0,
  "metadata": {
    "colab": {
      "provenance": []
    },
    "kernelspec": {
      "name": "python3",
      "display_name": "Python 3"
    },
    "language_info": {
      "name": "python"
    }
  },
  "cells": [
    {
      "cell_type": "markdown",
      "source": [
        "\n",
        "### **NLP Lab Assignment - 03**\n",
        "\n",
        "---\n",
        "\n",
        "\n",
        "\n",
        "**Aim :** creating N-Gram models with the help of given corpus. You may use\n",
        "NLTK or Only python to perform the same.\n",
        "\n",
        "**Name :** Kiran Patil\n",
        "\n",
        "**ID :** 211070904\n"
      ],
      "metadata": {
        "id": "JkbKw0lkfVmL"
      }
    },
    {
      "cell_type": "markdown",
      "source": [
        "**Step 1: Access and Preprocess the Corpus**\n"
      ],
      "metadata": {
        "id": "VjxYDHZBCkk7"
      }
    },
    {
      "cell_type": "code",
      "execution_count": null,
      "metadata": {
        "colab": {
          "base_uri": "https://localhost:8080/"
        },
        "id": "S45p258F_imM",
        "outputId": "b9a32cfa-4e6e-4ff2-8a47-003a0772114a"
      },
      "outputs": [
        {
          "output_type": "stream",
          "name": "stderr",
          "text": [
            "[nltk_data] Downloading package punkt to /root/nltk_data...\n",
            "[nltk_data]   Package punkt is already up-to-date!\n"
          ]
        }
      ],
      "source": [
        "#Step 1: Access and Preprocess the Corpus\n",
        "import nltk\n",
        "nltk.download('punkt')\n",
        "from nltk.util import ngrams\n",
        "from collections import Counter\n"
      ]
    },
    {
      "cell_type": "code",
      "source": [
        "with open('sample_text_corpus2.txt', 'r', encoding='utf-8') as file:\n",
        "    corpus = file.read()\n",
        "print(corpus)"
      ],
      "metadata": {
        "colab": {
          "base_uri": "https://localhost:8080/"
        },
        "id": "bChRpd7GBqA_",
        "outputId": "a22aeda4-445d-4611-d84a-1dfa8f537dbe"
      },
      "execution_count": null,
      "outputs": [
        {
          "output_type": "stream",
          "name": "stdout",
          "text": [
            "The quick brown fox jumps over the lazy dog. The sun is shining brightly in the clear blue sky.\n"
          ]
        }
      ]
    },
    {
      "cell_type": "code",
      "source": [
        "tokens = nltk.word_tokenize(corpus.lower())\n"
      ],
      "metadata": {
        "id": "gdkDrEAbCHft"
      },
      "execution_count": null,
      "outputs": []
    },
    {
      "cell_type": "markdown",
      "source": [
        "**Step 2: Compute Unsmoothed N-Gram Models**\n"
      ],
      "metadata": {
        "id": "1yPPTQ9OCf2l"
      }
    },
    {
      "cell_type": "code",
      "source": [
        "#Step 2: Compute Unsmoothed N-Gram Models\n",
        "unigrams = list(ngrams(tokens, 1))\n",
        "bigrams = list(ngrams(tokens, 2))\n",
        "trigrams = list(ngrams(tokens, 3))\n"
      ],
      "metadata": {
        "id": "8grw5sw5CriF"
      },
      "execution_count": null,
      "outputs": []
    },
    {
      "cell_type": "markdown",
      "source": [
        "**Step 3: Calculate N-Gram Probabilities**"
      ],
      "metadata": {
        "id": "Wz4cWoQiC0Yc"
      }
    },
    {
      "cell_type": "code",
      "source": [
        "#Step 3: Calculate N-Gram Probabilities\n",
        "unigram_counts = dict(Counter(unigrams))\n",
        "bigram_counts = dict(Counter(bigrams))\n",
        "trigram_counts = dict(Counter(trigrams))\n",
        "\n",
        "total_unigrams = len(unigrams)\n",
        "total_bigrams = len(bigrams)\n",
        "total_trigrams = len(trigrams)\n",
        "\n",
        "unigram_probabilities = {unigram: count / total_unigrams for unigram, count in unigram_counts.items()}\n",
        "bigram_probabilities = {bigram: count / total_bigrams for bigram, count in bigram_counts.items()}\n",
        "trigram_probabilities = {trigram: count / total_trigrams for trigram, count in trigram_counts.items()}\n"
      ],
      "metadata": {
        "id": "5JrWUWYgCuWw"
      },
      "execution_count": null,
      "outputs": []
    },
    {
      "cell_type": "markdown",
      "source": [
        "**Step 4: Store N-Gram Models in Descending Order of Probability**"
      ],
      "metadata": {
        "id": "NnfHZ__oC5QB"
      }
    },
    {
      "cell_type": "code",
      "source": [
        "#Step 4: Store N-Gram Models in Descending Order of Probability\n",
        "def save_ngram_model(filename, ngram_probabilities):\n",
        "    with open(filename, 'w', encoding='utf-8') as file:\n",
        "        for ngram, probability in sorted(ngram_probabilities.items(), key=lambda x: -x[1]):\n",
        "            file.write(f\"{ngram}: {probability:.6f}\\n\")\n",
        "\n",
        "save_ngram_model(\"unigram_model.txt\", unigram_probabilities)\n",
        "save_ngram_model(\"bigram_model.txt\", bigram_probabilities)\n",
        "save_ngram_model(\"trigram_model.txt\", trigram_probabilities)\n"
      ],
      "metadata": {
        "id": "lA4GordOCv29"
      },
      "execution_count": null,
      "outputs": []
    },
    {
      "cell_type": "markdown",
      "source": [
        "**Step 5: Create a Modular Program**"
      ],
      "metadata": {
        "id": "ZgBGZUPZDBhx"
      }
    },
    {
      "cell_type": "code",
      "source": [
        "#Step 5: Create a Modular Program\n",
        "def create_ngram_models(corpus_file):\n",
        "    # Insert the code from steps 3 to 7 here\n",
        "    corpus_file = \"your_corpus.txt\"  # Replace with the path to your plain text corpus\n",
        "    create_ngram_models(corpus_file)\n"
      ],
      "metadata": {
        "id": "9jt6b0VbC8uo"
      },
      "execution_count": null,
      "outputs": []
    },
    {
      "cell_type": "markdown",
      "source": [
        "**Step 6 : Display output**"
      ],
      "metadata": {
        "id": "_J6Xg5wzDxVK"
      }
    },
    {
      "cell_type": "code",
      "source": [
        "#Step 6 : Display output\n",
        "with open('unigram_model.txt', 'r', encoding='utf-8') as file:\n",
        "    unigram_output = file.read()\n",
        "\n",
        "print(unigram_output)"
      ],
      "metadata": {
        "colab": {
          "base_uri": "https://localhost:8080/"
        },
        "id": "E49nuf0WDWbF",
        "outputId": "a6fb60f3-5620-4d20-db0b-58e88a02ca0c"
      },
      "execution_count": null,
      "outputs": [
        {
          "output_type": "stream",
          "name": "stdout",
          "text": [
            "('the',): 0.190476\n",
            "('.',): 0.095238\n",
            "('quick',): 0.047619\n",
            "('brown',): 0.047619\n",
            "('fox',): 0.047619\n",
            "('jumps',): 0.047619\n",
            "('over',): 0.047619\n",
            "('lazy',): 0.047619\n",
            "('dog',): 0.047619\n",
            "('sun',): 0.047619\n",
            "('is',): 0.047619\n",
            "('shining',): 0.047619\n",
            "('brightly',): 0.047619\n",
            "('in',): 0.047619\n",
            "('clear',): 0.047619\n",
            "('blue',): 0.047619\n",
            "('sky',): 0.047619\n",
            "\n"
          ]
        }
      ]
    },
    {
      "cell_type": "code",
      "source": [
        "with open('bigram_model.txt', 'r', encoding='utf-8') as file:\n",
        "    bigram_output = file.read()\n",
        "\n",
        "print(bigram_output)"
      ],
      "metadata": {
        "colab": {
          "base_uri": "https://localhost:8080/"
        },
        "id": "k6WuJasZDtfb",
        "outputId": "5764e5d4-7b49-4591-a678-4b6b3683ed86"
      },
      "execution_count": null,
      "outputs": [
        {
          "output_type": "stream",
          "name": "stdout",
          "text": [
            "('the', 'quick'): 0.050000\n",
            "('quick', 'brown'): 0.050000\n",
            "('brown', 'fox'): 0.050000\n",
            "('fox', 'jumps'): 0.050000\n",
            "('jumps', 'over'): 0.050000\n",
            "('over', 'the'): 0.050000\n",
            "('the', 'lazy'): 0.050000\n",
            "('lazy', 'dog'): 0.050000\n",
            "('dog', '.'): 0.050000\n",
            "('.', 'the'): 0.050000\n",
            "('the', 'sun'): 0.050000\n",
            "('sun', 'is'): 0.050000\n",
            "('is', 'shining'): 0.050000\n",
            "('shining', 'brightly'): 0.050000\n",
            "('brightly', 'in'): 0.050000\n",
            "('in', 'the'): 0.050000\n",
            "('the', 'clear'): 0.050000\n",
            "('clear', 'blue'): 0.050000\n",
            "('blue', 'sky'): 0.050000\n",
            "('sky', '.'): 0.050000\n",
            "\n"
          ]
        }
      ]
    },
    {
      "cell_type": "code",
      "source": [
        "with open('trigram_model.txt', 'r', encoding='utf-8') as file:\n",
        "    trigram_output = file.read()\n",
        "\n",
        "print(trigram_output)"
      ],
      "metadata": {
        "colab": {
          "base_uri": "https://localhost:8080/"
        },
        "id": "YyQMQcrYD8ej",
        "outputId": "f07061da-f2a9-4c84-c43d-c914d7589536"
      },
      "execution_count": null,
      "outputs": [
        {
          "output_type": "stream",
          "name": "stdout",
          "text": [
            "('the', 'quick', 'brown'): 0.052632\n",
            "('quick', 'brown', 'fox'): 0.052632\n",
            "('brown', 'fox', 'jumps'): 0.052632\n",
            "('fox', 'jumps', 'over'): 0.052632\n",
            "('jumps', 'over', 'the'): 0.052632\n",
            "('over', 'the', 'lazy'): 0.052632\n",
            "('the', 'lazy', 'dog'): 0.052632\n",
            "('lazy', 'dog', '.'): 0.052632\n",
            "('dog', '.', 'the'): 0.052632\n",
            "('.', 'the', 'sun'): 0.052632\n",
            "('the', 'sun', 'is'): 0.052632\n",
            "('sun', 'is', 'shining'): 0.052632\n",
            "('is', 'shining', 'brightly'): 0.052632\n",
            "('shining', 'brightly', 'in'): 0.052632\n",
            "('brightly', 'in', 'the'): 0.052632\n",
            "('in', 'the', 'clear'): 0.052632\n",
            "('the', 'clear', 'blue'): 0.052632\n",
            "('clear', 'blue', 'sky'): 0.052632\n",
            "('blue', 'sky', '.'): 0.052632\n",
            "\n"
          ]
        }
      ]
    }
  ]
}