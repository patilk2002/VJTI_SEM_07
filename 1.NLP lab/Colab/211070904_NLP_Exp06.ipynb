{
  "nbformat": 4,
  "nbformat_minor": 0,
  "metadata": {
    "colab": {
      "provenance": []
    },
    "kernelspec": {
      "name": "python3",
      "display_name": "Python 3"
    },
    "language_info": {
      "name": "python"
    }
  },
  "cells": [
    {
      "cell_type": "markdown",
      "source": [
        "\n",
        "### **NLP Lab Assignment - 06**\n",
        "\n",
        "---\n",
        "\n",
        "\n",
        "\n",
        "**Aim :** Develop a Knowledge-based approach for Disambiguating the meaning of an input word from a given sentence\n",
        "\n",
        "**Name :** Kiran Patil\n",
        "\n",
        "**ID :** 211070904\n"
      ],
      "metadata": {
        "id": "yOoO1bAEF9Da"
      }
    },
    {
      "cell_type": "code",
      "execution_count": null,
      "metadata": {
        "id": "HyWORPWcqLtx"
      },
      "outputs": [],
      "source": [
        "import nltk\n",
        "from nltk.corpus import wordnet\n",
        "from nltk.wsd import lesk\n",
        "from nltk.tokenize import word_tokenize\n"
      ]
    },
    {
      "cell_type": "code",
      "source": [
        "nltk.download('punkt')\n",
        "nltk.download('wordnet')"
      ],
      "metadata": {
        "colab": {
          "base_uri": "https://localhost:8080/"
        },
        "id": "ETAWh1Ucs8Mp",
        "outputId": "5481dce1-de0c-4dcb-8a76-8182e69ac2ba"
      },
      "execution_count": null,
      "outputs": [
        {
          "output_type": "stream",
          "name": "stderr",
          "text": [
            "[nltk_data] Downloading package punkt to /root/nltk_data...\n",
            "[nltk_data]   Unzipping tokenizers/punkt.zip.\n",
            "[nltk_data] Downloading package wordnet to /root/nltk_data...\n"
          ]
        },
        {
          "output_type": "execute_result",
          "data": {
            "text/plain": [
              "True"
            ]
          },
          "metadata": {},
          "execution_count": 3
        }
      ]
    },
    {
      "cell_type": "code",
      "source": [
        "def get_all_synsets(word):\n",
        "    synsets = wordnet.synsets(word)\n",
        "    return synsets\n",
        "\n",
        "# Example usage\n",
        "\n",
        "# sentence = \"The bat is a fascinating mammal that can fly in the night.\"\n",
        "# target_word = \"bat\"\n",
        "\n",
        "# sentence = \"The bank of the river was steep and rocky.\"\n",
        "# target_word = \"bank\"\n",
        "\n",
        "\n",
        "sentence = \"He deposited money in the bank.\"\n",
        "target_word = \"bank\"\n",
        "\n",
        "synsets = get_all_synsets(target_word)\n",
        "\n",
        "if synsets:\n",
        "    print(f\"All possible senses of '{target_word}':\")\n",
        "    for synset in synsets:\n",
        "        print(f\"- {synset.name()} - {synset.definition()}\")\n",
        "else:\n",
        "    print(f\"No senses found for '{target_word}' in WordNet.\")"
      ],
      "metadata": {
        "colab": {
          "base_uri": "https://localhost:8080/"
        },
        "id": "eKdt_DOctMIW",
        "outputId": "73d09a46-fea8-47d9-b7ac-46ec3821c079"
      },
      "execution_count": null,
      "outputs": [
        {
          "output_type": "stream",
          "name": "stdout",
          "text": [
            "All possible senses of 'bank':\n",
            "- bank.n.01 - sloping land (especially the slope beside a body of water)\n",
            "- depository_financial_institution.n.01 - a financial institution that accepts deposits and channels the money into lending activities\n",
            "- bank.n.03 - a long ridge or pile\n",
            "- bank.n.04 - an arrangement of similar objects in a row or in tiers\n",
            "- bank.n.05 - a supply or stock held in reserve for future use (especially in emergencies)\n",
            "- bank.n.06 - the funds held by a gambling house or the dealer in some gambling games\n",
            "- bank.n.07 - a slope in the turn of a road or track; the outside is higher than the inside in order to reduce the effects of centrifugal force\n",
            "- savings_bank.n.02 - a container (usually with a slot in the top) for keeping money at home\n",
            "- bank.n.09 - a building in which the business of banking transacted\n",
            "- bank.n.10 - a flight maneuver; aircraft tips laterally about its longitudinal axis (especially in turning)\n",
            "- bank.v.01 - tip laterally\n",
            "- bank.v.02 - enclose with a bank\n",
            "- bank.v.03 - do business with a bank or keep an account at a bank\n",
            "- bank.v.04 - act as the banker in a game or in gambling\n",
            "- bank.v.05 - be in the banking business\n",
            "- deposit.v.02 - put into a bank account\n",
            "- bank.v.07 - cover with ashes so to control the rate of burning\n",
            "- trust.v.01 - have confidence or faith in\n"
          ]
        }
      ]
    },
    {
      "cell_type": "code",
      "source": [
        "def disambiguate_word(sentence, target_word):\n",
        "    # Tokenize the sentence\n",
        "    tokens = nltk.word_tokenize(sentence)\n",
        "\n",
        "    # Identify the position of the target word\n",
        "    target_word_index = tokens.index(target_word)\n",
        "\n",
        "    # Extract contextual information\n",
        "    contextual_words = tokens[:target_word_index] + tokens[target_word_index + 1:]\n",
        "\n",
        "    # Initialize sense candidates and scores\n",
        "    sense_candidates = []\n",
        "    sense_scores = []\n",
        "\n",
        "    # Iterate over senses of the target word\n",
        "    for synset in wordnet.synsets(target_word):\n",
        "        sense_definition = synset.definition()\n",
        "\n",
        "        # Calculate overlap with contextual words\n",
        "        overlap = sum(1 for contextual_word in contextual_words if contextual_word in sense_definition)\n",
        "\n",
        "        # Calculate overlap with synonyms\n",
        "        synonym_overlap = sum(1 for synonym in synset.lemmas() if synonym.name() in contextual_words)\n",
        "\n",
        "        # Calculate score\n",
        "        score = overlap + synonym_overlap\n",
        "\n",
        "        # Store sense candidate and score\n",
        "        sense_candidates.append((synset, score))\n",
        "\n",
        "    # Select the highest-scoring sense\n",
        "    best_sense, best_score = max(sense_candidates, key=lambda x: x[1])\n",
        "    best_sense_description = best_sense.definition() if best_sense else \"No definition found.\"\n",
        "\n",
        "    return best_sense, best_sense_description\n",
        "\n",
        "best_sense, best_sense_description = disambiguate_word(sentence, target_word)\n",
        "\n",
        "if best_sense:\n",
        "    print(f\"The best sense of '{target_word}' is: {best_sense.name()} - {best_sense_description}\")\n",
        "else:\n",
        "    print(f\"No correct sense found for '{target_word}' in the given context.\")\n"
      ],
      "metadata": {
        "colab": {
          "base_uri": "https://localhost:8080/"
        },
        "id": "TNf8iofvy8eo",
        "outputId": "28a9bc54-6aae-46ce-8ebd-9e588a0d83b7"
      },
      "execution_count": null,
      "outputs": [
        {
          "output_type": "stream",
          "name": "stdout",
          "text": [
            "The best sense of 'bank' is: depository_financial_institution.n.01 - a financial institution that accepts deposits and channels the money into lending activities\n"
          ]
        }
      ]
    }
  ]
}